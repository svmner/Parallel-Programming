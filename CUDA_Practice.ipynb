{
  "nbformat": 4,
  "nbformat_minor": 0,
  "metadata": {
    "colab": {
      "provenance": [],
      "gpuType": "T4",
      "authorship_tag": "ABX9TyPtzeqGmpwxaq2QxE0bE/tm",
      "include_colab_link": true
    },
    "kernelspec": {
      "name": "python3",
      "display_name": "Python 3"
    },
    "language_info": {
      "name": "python"
    },
    "accelerator": "GPU"
  },
  "cells": [
    {
      "cell_type": "markdown",
      "metadata": {
        "id": "view-in-github",
        "colab_type": "text"
      },
      "source": [
        "<a href=\"https://colab.research.google.com/github/svmner/Parallel-Programming/blob/main/CUDA_Practice.ipynb\" target=\"_parent\"><img src=\"https://colab.research.google.com/assets/colab-badge.svg\" alt=\"Open In Colab\"/></a>"
      ]
    },
    {
      "cell_type": "code",
      "execution_count": null,
      "metadata": {
        "colab": {
          "base_uri": "https://localhost:8080/"
        },
        "id": "7VCsEfPV3L8P",
        "outputId": "638d8719-42b3-4dad-ba23-4196926f284b"
      },
      "outputs": [
        {
          "output_type": "stream",
          "name": "stdout",
          "text": [
            "nvcc: NVIDIA (R) Cuda compiler driver\n",
            "Copyright (c) 2005-2022 NVIDIA Corporation\n",
            "Built on Wed_Sep_21_10:33:58_PDT_2022\n",
            "Cuda compilation tools, release 11.8, V11.8.89\n",
            "Build cuda_11.8.r11.8/compiler.31833905_0\n"
          ]
        }
      ],
      "source": [
        "!nvcc --version"
      ]
    },
    {
      "cell_type": "code",
      "source": [
        "%%writefile practice1.cu\n",
        "\n",
        "// 2D Matrix Multiplication\n",
        "\n",
        "#include <stdio.h>\n",
        "#include <cuda_runtime.h>\n",
        "#include <stdlib.h>\n",
        "#define TILE_WIDTH 2\n",
        "#define WIDTH 4\n",
        "\n",
        "__global__ void perform2DMatrixMult(int *d_A,int *d_B,int *d_C){\n",
        "  int bx = blockIdx.x, by = blockIdx.y;\n",
        "  int tx = threadIdx.x, ty = threadIdx.y;\n",
        "\n",
        "  int row = by * blockDim.y + ty;\n",
        "  int col = bx * blockDim.x + tx;\n",
        "  int res = 0;\n",
        "  if(row < WIDTH && col < WIDTH){\n",
        "    for(int k = 0;k<WIDTH;k++){\n",
        "      res += d_A[row*WIDTH + k] * d_B[k*WIDTH + col];\n",
        "    }\n",
        "    d_C[row * WIDTH + col] = res;\n",
        "  }\n",
        "}\n",
        "\n",
        "int main(){\n",
        "  int *d_A,*d_B,*d_C;\n",
        "  int *A,*B,*C;\n",
        "\n",
        "  A = (int*)malloc(sizeof(int)*WIDTH*WIDTH);\n",
        "  B = (int*)malloc(sizeof(int)*WIDTH*WIDTH);\n",
        "  C = (int*)malloc(sizeof(int)*WIDTH*WIDTH);\n",
        "\n",
        "  printf(\"Enter 4x4 matrix A: \\n\");\n",
        "  for(int i = 0; i<WIDTH*WIDTH;i++){\n",
        "    scanf(\"%d\",&A[i]);\n",
        "  }\n",
        "\n",
        "  printf(\"Enter 4x4 matrix B: \\n\");\n",
        "  for(int i = 0; i<WIDTH*WIDTH;i++){\n",
        "    scanf(\"%d\",&B[i]);\n",
        "  }\n",
        "\n",
        "  cudaMalloc((void**)&d_A,sizeof(int)*WIDTH*WIDTH);\n",
        "  cudaMalloc((void**)&d_B,sizeof(int)*WIDTH*WIDTH);\n",
        "  cudaMalloc((void**)&d_C,sizeof(int)*WIDTH*WIDTH);\n",
        "\n",
        "  cudaMemcpy(d_A,A,sizeof(int)*WIDTH*WIDTH,cudaMemcpyHostToDevice);\n",
        "  cudaMemcpy(d_B,B,sizeof(int)*WIDTH*WIDTH,cudaMemcpyHostToDevice);\n",
        "\n",
        "  dim3 dimGrid(WIDTH/TILE_WIDTH,WIDTH/TILE_WIDTH);\n",
        "  dim3 dimBlock(TILE_WIDTH,TILE_WIDTH);\n",
        "\n",
        "  perform2DMatrixMult<<<dimGrid,dimBlock>>>(d_A,d_B,d_C);\n",
        "\n",
        "  cudaMemcpy(C,d_C,sizeof(int)*WIDTH*WIDTH,cudaMemcpyDeviceToHost);\n",
        "\n",
        "  printf(\"This is the resultant matrix: \\n\");\n",
        "  for(int i =0;i<WIDTH;i++){\n",
        "    for(int j = 0;j<WIDTH;j++){\n",
        "      printf(\"%d\\t\",C[i*WIDTH + j]);\n",
        "    }\n",
        "    printf(\"\\n\");\n",
        "  }\n",
        "  return 0;\n",
        "}"
      ],
      "metadata": {
        "id": "fpkJHyo67VlN",
        "colab": {
          "base_uri": "https://localhost:8080/"
        },
        "outputId": "701531a7-3fcb-4288-a7a5-0ca4903b35ed"
      },
      "execution_count": 8,
      "outputs": [
        {
          "output_type": "stream",
          "name": "stdout",
          "text": [
            "Writing practice1.cu\n"
          ]
        }
      ]
    },
    {
      "cell_type": "code",
      "source": [
        "!nvcc practice1.cu -o practice1\n"
      ],
      "metadata": {
        "id": "q6-tZdmLLZRA"
      },
      "execution_count": null,
      "outputs": []
    },
    {
      "cell_type": "code",
      "source": [
        "!./practice1"
      ],
      "metadata": {
        "colab": {
          "base_uri": "https://localhost:8080/"
        },
        "id": "OpcadD-RO5A4",
        "outputId": "344a6be6-00ea-4467-d9be-9c941f8aba24"
      },
      "execution_count": null,
      "outputs": [
        {
          "output_type": "stream",
          "name": "stdout",
          "text": [
            "Enter 4x4 matrix A: \n",
            "1 2 3 4 \n",
            "1 2 3 4 \n",
            "1 2 3 4 \n",
            "1 2 3 4 \n",
            "Enter 4x4 matrix B: \n",
            "1 2 3 4 \n",
            "1 2 3 4 \n",
            "1 2 3 4\n",
            "1 2 3 4 \n",
            "This is the resultant matrix: \n",
            "10\t20\t30\t40\t\n",
            "10\t20\t30\t40\t\n",
            "10\t20\t30\t40\t\n",
            "10\t20\t30\t40\t\n"
          ]
        }
      ]
    },
    {
      "cell_type": "code",
      "source": [
        "%%writefile practice2.cu\n",
        "\n",
        "// MERGE SORT\n",
        "\n",
        "#include <stdio.h>\n",
        "#include <cuda_runtime.h>\n",
        "\n",
        "// CUDA Kernel for merging two halves of an array\n",
        "__global__ void mergeKernel(int *deviceArray, int *tempArray, int size, int width) {\n",
        "    int idx = blockIdx.x * blockDim.x + threadIdx.x;\n",
        "    int start = width * idx;\n",
        "    int mid = min(start + width / 2, size);\n",
        "    int end = min(start + width, size);\n",
        "\n",
        "    int a = start, b = mid, i = start;\n",
        "\n",
        "    while (a < mid && b < end) {\n",
        "        tempArray[i++] = (deviceArray[a] < deviceArray[b]) ? deviceArray[a++] : deviceArray[b++];\n",
        "    }\n",
        "    while (a < mid) {\n",
        "        tempArray[i++] = deviceArray[a++];\n",
        "    }\n",
        "    while (b < end) {\n",
        "        tempArray[i++] = deviceArray[b++];\n",
        "    }\n",
        "}\n",
        "\n",
        "// Host function to call the merge sort kernel\n",
        "void mergeSort(int *array, int size) {\n",
        "    int *deviceArray, *tempArray;\n",
        "\n",
        "    // Allocate memory on the GPU\n",
        "    cudaMalloc(&deviceArray, size * sizeof(int));\n",
        "    cudaMalloc(&tempArray, size * sizeof(int));\n",
        "\n",
        "    // Copy array from host to device\n",
        "    cudaMemcpy(deviceArray, array, size * sizeof(int), cudaMemcpyHostToDevice);\n",
        "\n",
        "    dim3 threadsPerBlock(1024);\n",
        "    dim3 blocksPerGrid((size + threadsPerBlock.x - 1) / threadsPerBlock.x);\n",
        "    int width;\n",
        "\n",
        "    // Perform the merge sort\n",
        "    for (width = 2; width <= size; width *= 2) {\n",
        "        mergeKernel<<<blocksPerGrid, threadsPerBlock>>>(deviceArray, tempArray, size, width);\n",
        "        cudaMemcpy(deviceArray, tempArray, size * sizeof(int), cudaMemcpyDeviceToDevice);\n",
        "    }\n",
        "\n",
        "    // Copy sorted array back to host\n",
        "    cudaMemcpy(array, deviceArray, size * sizeof(int), cudaMemcpyDeviceToHost);\n",
        "\n",
        "    // Free device memory\n",
        "    cudaFree(deviceArray);\n",
        "    cudaFree(tempArray);\n",
        "}\n",
        "\n",
        "int main() {\n",
        "    int *array;\n",
        "    int size;\n",
        "\n",
        "    printf(\"Enter the number of elements: \");\n",
        "    scanf(\"%d\", &size);\n",
        "\n",
        "    array = (int*)malloc(size * sizeof(int));\n",
        "\n",
        "    printf(\"Enter the elements of the array:\\n\");\n",
        "    for (int i = 0; i < size; i++) {\n",
        "        scanf(\"%d\", &array[i]);\n",
        "    }\n",
        "\n",
        "    mergeSort(array, size);\n",
        "\n",
        "    // Print the sorted array\n",
        "    printf(\"Sorted array:\\n\");\n",
        "    for (int i = 0; i < size; i++) {\n",
        "        printf(\"%d \", array[i]);\n",
        "    }\n",
        "    printf(\"\\n\");\n",
        "\n",
        "    free(array);\n",
        "\n",
        "    return 0;\n",
        "}\n"
      ],
      "metadata": {
        "id": "EPu3g9QBPbmy",
        "colab": {
          "base_uri": "https://localhost:8080/"
        },
        "outputId": "dd40e306-4415-4ad5-9745-9c8006188554"
      },
      "execution_count": null,
      "outputs": [
        {
          "output_type": "stream",
          "name": "stdout",
          "text": [
            "Overwriting practice2.cu\n"
          ]
        }
      ]
    },
    {
      "cell_type": "code",
      "source": [
        "!nvcc practice2.cu -o practice2"
      ],
      "metadata": {
        "id": "nDxpWzq2jeCy"
      },
      "execution_count": null,
      "outputs": []
    },
    {
      "cell_type": "code",
      "source": [
        "!./practice2"
      ],
      "metadata": {
        "colab": {
          "base_uri": "https://localhost:8080/"
        },
        "id": "8N3mB0-kjlWD",
        "outputId": "5c5de951-7fe6-41d0-e40e-eb96f3799dd4"
      },
      "execution_count": null,
      "outputs": [
        {
          "output_type": "stream",
          "name": "stdout",
          "text": [
            "Enter the number of elements: 10\n",
            "Enter the elements of the array:\n",
            "1 4 2 3 7 6 9 4 18 12\n",
            "Sorted array:\n",
            "1 2 3 4 4 6 7 9 12 18 \n"
          ]
        }
      ]
    },
    {
      "cell_type": "code",
      "source": [
        "%%writefile practice3.cu\n",
        "\n",
        "// 2D Convolution\n",
        "\n",
        "#include<stdio.h>\n",
        "#include<stdlib.h>\n",
        "#include<cuda_runtime.h>\n",
        "\n",
        "#define TILE_WIDTH 2\n",
        "#define WIDTH 4\n",
        "#define MASK_WIDTH 3\n",
        "\n",
        "__global__ void convolution(int* input, int* mask, int* output) {\n",
        "\n",
        "    int row = threadIdx.y + blockDim.y * blockIdx.y;\n",
        "    int col = threadIdx.x + blockDim.x * blockIdx.x;\n",
        "    int sum = 0;\n",
        "\n",
        "    for (int i = 0; i < MASK_WIDTH; i++) {\n",
        "        for (int j = 0; j < MASK_WIDTH; j++) {\n",
        "            int inputRow = row + i - MASK_WIDTH / 2;\n",
        "            int inputCol = col + j - MASK_WIDTH / 2;\n",
        "\n",
        "            if (inputRow >= 0 && inputRow < WIDTH && inputCol >= 0 && inputCol < WIDTH) {\n",
        "                sum += input[inputRow * WIDTH + inputCol] * mask[i * MASK_WIDTH + j];\n",
        "            }\n",
        "        }\n",
        "    }\n",
        "    output[row * WIDTH + col] = sum;\n",
        "}\n",
        "\n",
        "int main() {\n",
        "\n",
        "    int *input, *mask, *output, *d_input, *d_mask, *d_output;\n",
        "\n",
        "    input = (int*)malloc(sizeof(int) * WIDTH * WIDTH);\n",
        "    output = (int*)malloc(sizeof(int) * WIDTH * WIDTH);\n",
        "    mask = (int*)malloc(sizeof(int) * MASK_WIDTH * MASK_WIDTH);\n",
        "\n",
        "    printf(\"Enter the (4x4) input matrix:\\n\");\n",
        "    for (int i = 0; i < WIDTH; i++) {\n",
        "        for (int j = 0; j < WIDTH; j++) {\n",
        "            scanf(\"%d\", &input[i * WIDTH + j]);\n",
        "        }\n",
        "    }\n",
        "\n",
        "    printf(\"Enter the (3x3) mask matrix:\\n\");\n",
        "    for (int i = 0; i < MASK_WIDTH; i++) {\n",
        "        for (int j = 0; j < MASK_WIDTH; j++) {\n",
        "            scanf(\"%d\", &mask[i * MASK_WIDTH + j]);\n",
        "        }\n",
        "    }\n",
        "\n",
        "    cudaMalloc((void**)&d_input, WIDTH * WIDTH * sizeof(int));\n",
        "    cudaMalloc((void**)&d_mask, MASK_WIDTH * MASK_WIDTH * sizeof(int));\n",
        "    cudaMalloc((void**)&d_output, WIDTH * WIDTH * sizeof(int));\n",
        "\n",
        "    cudaMemcpy(d_input, input, WIDTH * WIDTH * sizeof(int), cudaMemcpyHostToDevice);\n",
        "    cudaMemcpy(d_mask, mask, MASK_WIDTH * MASK_WIDTH * sizeof(int), cudaMemcpyHostToDevice);\n",
        "\n",
        "    dim3 grid_conf(WIDTH / TILE_WIDTH, WIDTH / TILE_WIDTH);\n",
        "    dim3 block_conf(TILE_WIDTH, TILE_WIDTH);\n",
        "\n",
        "    convolution<<<grid_conf, block_conf>>>(d_input, d_mask, d_output);\n",
        "\n",
        "    cudaMemcpy(output, d_output, WIDTH * WIDTH * sizeof(int), cudaMemcpyDeviceToHost);\n",
        "\n",
        "    printf(\"After performing convolution:\\n\");\n",
        "    for (int i = 0; i < WIDTH; i++) {\n",
        "        for (int j = 0; j < WIDTH; j++) {\n",
        "            printf(\"%d \", output[i * WIDTH + j]);\n",
        "        }\n",
        "        printf(\"\\n\");\n",
        "    }\n",
        "    cudaFree(d_input);\n",
        "    cudaFree(d_mask);\n",
        "    cudaFree(d_output);\n",
        "    free(input);\n",
        "    free(output);\n",
        "    free(mask);\n",
        "}"
      ],
      "metadata": {
        "id": "kM1KXo5LjnoS",
        "colab": {
          "base_uri": "https://localhost:8080/"
        },
        "outputId": "b75f9a4d-6563-456c-b00b-92495343e274"
      },
      "execution_count": 9,
      "outputs": [
        {
          "output_type": "stream",
          "name": "stdout",
          "text": [
            "Writing practice3.cu\n"
          ]
        }
      ]
    },
    {
      "cell_type": "code",
      "source": [
        "!nvcc practice3.cu -o practice3"
      ],
      "metadata": {
        "id": "VriKO8CSq_sP"
      },
      "execution_count": 10,
      "outputs": []
    },
    {
      "cell_type": "code",
      "source": [
        "!./practice3"
      ],
      "metadata": {
        "colab": {
          "base_uri": "https://localhost:8080/"
        },
        "id": "7f3UKrfrrA21",
        "outputId": "601f7c68-ec1b-4f01-922e-7b798e55b6b4"
      },
      "execution_count": 11,
      "outputs": [
        {
          "output_type": "stream",
          "name": "stdout",
          "text": [
            "Enter the (4x4) input matrix:\n",
            "1 2 3 4 \n",
            "1 2 3 4 \n",
            "1 2 3 4 \n",
            "1 2 3 4 \n",
            "Enter the (3x3) mask matrix:\n",
            "3 3 3 \n",
            "5 5 5 \n",
            "7 7 7 \n",
            "After performing convolution:\n",
            "36 72 108 84 \n",
            "45 90 135 105 \n",
            "45 90 135 105 \n",
            "24 48 72 56 \n"
          ]
        }
      ]
    },
    {
      "cell_type": "code",
      "source": [
        "%%writefile practice4.cu\n",
        "\n",
        "// 1D Tiled Convolution\n",
        "\n",
        "#include<stdio.h>\n",
        "#include<stdlib.h>\n",
        "#include<cuda_runtime.h>\n",
        "\n",
        "__global__ void convolution(int* N,int* M,int* P,int width,int mask_width){\n",
        "    __shared__ int value;\n",
        "\n",
        "    int tid = blockIdx.x*blockDim.x + threadIdx.x;\n",
        "    int start = tid - (mask_width/2);\n",
        "\n",
        "    P[tid] = 0;\n",
        "\n",
        "    for(int i = 0;i < mask_width;i++){\n",
        "        if(tid == 0)\n",
        "            value = M[i];\n",
        "        __syncthreads();\n",
        "\n",
        "        if(start + i >= 0 && start + i < width)\n",
        "            P[tid] += N[start+i]*value;\n",
        "        __syncthreads();\n",
        "    }\n",
        "}\n",
        "\n",
        "void performConvolution(int* N,int* M,int* P,int width,int mask_width){\n",
        "    int* d_N,*d_M,*d_P;\n",
        "    int size = width*sizeof(int), mask_size = mask_width*sizeof(int);\n",
        "\n",
        "    cudaMalloc((void**)&d_N,size);\n",
        "    cudaMalloc((void**)&d_M,mask_size);\n",
        "    cudaMalloc((void**)&d_P,size);\n",
        "\n",
        "    cudaMemcpy(d_N,N,size,cudaMemcpyHostToDevice);\n",
        "    cudaMemcpy(d_M,M,mask_size,cudaMemcpyHostToDevice);\n",
        "\n",
        "    convolution<<<1,width>>>(d_N,d_M,d_P,width,mask_width);\n",
        "\n",
        "    cudaMemcpy(P,d_P,size,cudaMemcpyDeviceToHost);\n",
        "\n",
        "    cudaFree(d_P);\n",
        "    cudaFree(d_M);\n",
        "    cudaFree(d_N);\n",
        "}\n",
        "\n",
        "int main(){\n",
        "\n",
        "    int* N,*M,*P,width,mask_width;\n",
        "\n",
        "    printf(\"Enter the width:\\n\");\n",
        "    scanf(\"%d\",&width);\n",
        "\n",
        "    printf(\"Enter the mask width:\\n\");\n",
        "    scanf(\"%d\",&mask_width);\n",
        "\n",
        "    int size = width*sizeof(int), mask_size = mask_width*sizeof(int);\n",
        "\n",
        "    N = (int*)malloc(size);\n",
        "    M = (int*)malloc(mask_size);\n",
        "    P = (int*)malloc(size);\n",
        "\n",
        "    printf(\"Enter array elements:\\n\");\n",
        "    for(int i = 0;i < width;i++)\n",
        "        scanf(\"%d\",&N[i]);\n",
        "\n",
        "    printf(\"Enter the mask elements:\\n\");\n",
        "    for(int i = 0;i < mask_width;i++)\n",
        "        scanf(\"%d\",&M[i]);\n",
        "\n",
        "    performConvolution(N,M,P,width,mask_width);\n",
        "\n",
        "    printf(\"Result:\\n\");\n",
        "    for(int i = 0;i < width;i++)\n",
        "        printf(\"%d \",P[i]);\n",
        "\n",
        "    free(P);\n",
        "    free(M);\n",
        "    free(N);\n",
        "    return 0;\n",
        "}"
      ],
      "metadata": {
        "colab": {
          "base_uri": "https://localhost:8080/"
        },
        "id": "b3GL-lctrCdL",
        "outputId": "511fe28c-f95c-4f35-e6e4-16825426bf33"
      },
      "execution_count": 12,
      "outputs": [
        {
          "output_type": "stream",
          "name": "stdout",
          "text": [
            "Writing practice4.cu\n"
          ]
        }
      ]
    },
    {
      "cell_type": "code",
      "source": [
        "!nvcc practice4.cu -o practice4"
      ],
      "metadata": {
        "id": "rGWwL2k0rtEz"
      },
      "execution_count": 13,
      "outputs": []
    },
    {
      "cell_type": "code",
      "source": [
        "!./practice4"
      ],
      "metadata": {
        "colab": {
          "base_uri": "https://localhost:8080/"
        },
        "id": "zm4SyuQ2rwGo",
        "outputId": "e00846a0-ab0b-49f6-8b79-602e214ac0f9"
      },
      "execution_count": 14,
      "outputs": [
        {
          "output_type": "stream",
          "name": "stdout",
          "text": [
            "Enter the width:\n",
            "6\n",
            "Enter the mask width:\n",
            "3\n",
            "Enter array elements:\n",
            "1 3 5 6 7 8 \n",
            "Enter the mask elements:\n",
            "5 7 9\n",
            "Result:\n",
            "34 71 104 130 151 91 "
          ]
        }
      ]
    },
    {
      "cell_type": "code",
      "source": [
        "%%writefile practice5.cu\n",
        "\n",
        "// Sparse Matrix - Vector Multiplication using CSR\n",
        "\n",
        "#include<cuda_runtime.h>\n",
        "#include<stdio.h>\n",
        "#include<stdlib.h>\n",
        "\n",
        "__global__ void csr(int num_rows,int* data,int* col_index,int* row_ptr,int* x,int* y){\n",
        "    int row = blockDim.x*blockIdx.x + threadIdx.x;\n",
        "    if(row < num_rows){\n",
        "        int res = 0;\n",
        "        int row_start = row_ptr[row];\n",
        "        int row_end = row_ptr[row+1];\n",
        "\n",
        "        for(int i = row_start;i < row_end;i++){\n",
        "            res += data[i]*x[col_index[i]];\n",
        "        }\n",
        "        y[row] = res;\n",
        "    }\n",
        "}\n",
        "\n",
        "void csr(int n,int m,int non_zero_count,int* data,int* col_index,int* row_ptr,int* x, int* y){\n",
        "    int* d_data,*d_col_index,*d_row_ptr,*d_x,*d_y;\n",
        "\n",
        "    cudaMalloc((void**)&d_data,sizeof(int)*non_zero_count);\n",
        "    cudaMalloc((void**)&d_x,sizeof(int)*m);\n",
        "    cudaMalloc((void**)&d_y,sizeof(int)*n);\n",
        "    cudaMalloc((void**)&d_row_ptr,sizeof(int)*(n+1));\n",
        "    cudaMalloc((void**)&d_col_index,sizeof(int)*non_zero_count);\n",
        "\n",
        "    cudaMemcpy(d_data,data,sizeof(int)*non_zero_count,cudaMemcpyHostToDevice);\n",
        "    cudaMemcpy(d_x,x,sizeof(int)*m,cudaMemcpyHostToDevice);\n",
        "    cudaMemcpy(d_col_index,col_index,sizeof(int)*non_zero_count,cudaMemcpyHostToDevice);\n",
        "    cudaMemcpy(d_row_ptr,row_ptr,sizeof(int)*(n + 1),cudaMemcpyHostToDevice);\n",
        "\n",
        "    csr<<<1,n>>>(n,d_data,d_col_index,d_row_ptr,d_x,d_y);\n",
        "\n",
        "    cudaMemcpy(y,d_y,sizeof(int)*m,cudaMemcpyDeviceToHost);\n",
        "\n",
        "    printf(\"Result:\\n\");\n",
        "    for(int i = 0; i < m;i++)\n",
        "      printf(\"%d \",y[i]);\n",
        "    printf(\"\\n\");\n",
        "\n",
        "    cudaFree(d_x);\n",
        "    cudaFree(d_y);\n",
        "    cudaFree(d_data);\n",
        "    cudaFree(d_row_ptr);\n",
        "    cudaFree(d_col_index);\n",
        "}\n",
        "\n",
        "int main(){\n",
        "    int m,n,non_zero_count=0;\n",
        "\n",
        "    printf(\"Enter the dimensions:\\n\");\n",
        "    scanf(\"%d %d\", &n,&m);\n",
        "\n",
        "    int* mat = (int*)malloc(sizeof(int)*n*m);\n",
        "    printf(\"Enter a sparse matrix:\\n\");\n",
        "\n",
        "    for(int i = 0;i < n;i++){\n",
        "        for(int j = 0; j < m; j++){\n",
        "            int k = i*n+j;\n",
        "            scanf(\"%d\",&mat[k]);\n",
        "            if(mat[k] != 0){\n",
        "                non_zero_count += 1;\n",
        "            }\n",
        "        }\n",
        "    }\n",
        "\n",
        "    int* x = (int*)malloc(sizeof(int)*m);\n",
        "    int* y = (int*)malloc(sizeof(int)*n);\n",
        "    int* row_ptr = (int*)calloc((m+1),sizeof(int));\n",
        "    int* col_index = (int*)malloc(sizeof(int)*non_zero_count);\n",
        "    int* data = (int*)malloc(sizeof(int)*non_zero_count);\n",
        "\n",
        "    printf(\"Enter the column vector:\\n\");\n",
        "    for(int i = 0; i < m;i++){\n",
        "        scanf(\"%d\",&x[i]);\n",
        "    }\n",
        "\n",
        "    int id = 0;\n",
        "\n",
        "    for(int i = 0;i < n;i++){\n",
        "        for(int j = 0;j < m;j++){\n",
        "            int k = i*n + j;\n",
        "\n",
        "            if(mat[k] != 0){\n",
        "                data[id] = mat[k];\n",
        "                col_index[id] = j;\n",
        "                id += 1;\n",
        "            }\n",
        "            row_ptr[i + 1] = id;\n",
        "        }\n",
        "    }\n",
        "\n",
        "    csr(n,m,non_zero_count,data,col_index,row_ptr,x,y);\n",
        "    return 0;\n",
        "}"
      ],
      "metadata": {
        "colab": {
          "base_uri": "https://localhost:8080/"
        },
        "id": "i553jzoRrznq",
        "outputId": "1f0516c1-f581-45ce-92a6-4c63c8c5fe83"
      },
      "execution_count": 15,
      "outputs": [
        {
          "output_type": "stream",
          "name": "stdout",
          "text": [
            "Writing practice5.cu\n"
          ]
        }
      ]
    },
    {
      "cell_type": "code",
      "source": [
        "!nvcc practice5.cu -o practice5"
      ],
      "metadata": {
        "id": "CJZYYkQMtSyR"
      },
      "execution_count": 16,
      "outputs": []
    },
    {
      "cell_type": "code",
      "source": [
        "!./practice5"
      ],
      "metadata": {
        "colab": {
          "base_uri": "https://localhost:8080/"
        },
        "id": "05Ub7OgptTZ6",
        "outputId": "c67f6a64-754f-440e-fc44-68c19a5fb2fe"
      },
      "execution_count": 17,
      "outputs": [
        {
          "output_type": "stream",
          "name": "stdout",
          "text": [
            "Enter the dimensions:\n",
            "3 3 \n",
            "Enter a sparse matrix:\n",
            "1 2 3 \n",
            "4 5 6 \n",
            "0 0 0\n",
            "Enter the column vector:\n",
            "1 2 3 \n",
            "Result:\n",
            "14 32 0 \n"
          ]
        }
      ]
    },
    {
      "cell_type": "code",
      "source": [],
      "metadata": {
        "id": "B5KKhEsetW61"
      },
      "execution_count": null,
      "outputs": []
    }
  ]
}