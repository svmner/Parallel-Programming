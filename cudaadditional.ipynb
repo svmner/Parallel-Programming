{
  "nbformat": 4,
  "nbformat_minor": 0,
  "metadata": {
    "colab": {
      "provenance": [],
      "gpuType": "T4",
      "authorship_tag": "ABX9TyOdEiKum3NagnCH8LOUEfK+",
      "include_colab_link": true
    },
    "kernelspec": {
      "name": "python3",
      "display_name": "Python 3"
    },
    "language_info": {
      "name": "python"
    },
    "accelerator": "GPU"
  },
  "cells": [
    {
      "cell_type": "markdown",
      "metadata": {
        "id": "view-in-github",
        "colab_type": "text"
      },
      "source": [
        "<a href=\"https://colab.research.google.com/github/svmner/Parallel-Programming/blob/main/cudaadditional.ipynb\" target=\"_parent\"><img src=\"https://colab.research.google.com/assets/colab-badge.svg\" alt=\"Open In Colab\"/></a>"
      ]
    },
    {
      "cell_type": "code",
      "execution_count": null,
      "metadata": {
        "colab": {
          "base_uri": "https://localhost:8080/"
        },
        "id": "7VCsEfPV3L8P",
        "outputId": "638d8719-42b3-4dad-ba23-4196926f284b"
      },
      "outputs": [
        {
          "output_type": "stream",
          "name": "stdout",
          "text": [
            "nvcc: NVIDIA (R) Cuda compiler driver\n",
            "Copyright (c) 2005-2022 NVIDIA Corporation\n",
            "Built on Wed_Sep_21_10:33:58_PDT_2022\n",
            "Cuda compilation tools, release 11.8, V11.8.89\n",
            "Build cuda_11.8.r11.8/compiler.31833905_0\n"
          ]
        }
      ],
      "source": [
        "!nvcc --version"
      ]
    },
    {
      "cell_type": "code",
      "source": [
        "%%writefile practice1.cu\n",
        "\n",
        "// 2D Matrix Multiplication\n",
        "\n",
        "#include<stdio.h>\n",
        "#include<cuda_runtime.h>\n",
        "#include<stdlib.h>\n",
        "#define TILE_WIDTH 2\n",
        "#define WIDTH 4\n",
        "\n",
        "__global__ void perform2DMatrixMult(int *d_A,int *d_B,int *d_C){\n",
        "  int bx = blockIdx.x, by = blockIdx.y;\n",
        "  int tx = threadIdx.x, ty = threadIdx.y;\n",
        "\n",
        "  int row = by * blockDim.y + ty;\n",
        "  int col = bx * blockDim.x + tx;\n",
        "  int res = 0;\n",
        "  if(row < WIDTH && col < WIDTH){\n",
        "    for(int k = 0;k<WIDTH;k++){\n",
        "      res += d_A[row*WIDTH + k] * d_B[k*WIDTH + col];\n",
        "    }\n",
        "    d_C[row * WIDTH + col] = res;\n",
        "  }\n",
        "}\n",
        "\n",
        "int main(){\n",
        "  int *d_A,*d_B,*d_C;\n",
        "  int *A,*B,*C;\n",
        "\n",
        "  A = (int*)malloc(sizeof(int)*WIDTH*WIDTH);\n",
        "  B = (int*)malloc(sizeof(int)*WIDTH*WIDTH);\n",
        "  C = (int*)malloc(sizeof(int)*WIDTH*WIDTH);\n",
        "\n",
        "  printf(\"Enter 4x4 matrix A: \\n\");\n",
        "  for(int i = 0; i<WIDTH*WIDTH;i++){\n",
        "    scanf(\"%d\",&A[i]);\n",
        "  }\n",
        "\n",
        "  printf(\"Enter 4x4 matrix B: \\n\");\n",
        "  for(int i = 0; i<WIDTH*WIDTH;i++){\n",
        "    scanf(\"%d\",&B[i]);\n",
        "  }\n",
        "\n",
        "  cudaMalloc((void**)&d_A,sizeof(int)*WIDTH*WIDTH);\n",
        "  cudaMalloc((void**)&d_B,sizeof(int)*WIDTH*WIDTH);\n",
        "  cudaMalloc((void**)&d_C,sizeof(int)*WIDTH*WIDTH);\n",
        "\n",
        "  cudaMemcpy(d_A,A,sizeof(int)*WIDTH*WIDTH,cudaMemcpyHostToDevice);\n",
        "  cudaMemcpy(d_B,B,sizeof(int)*WIDTH*WIDTH,cudaMemcpyHostToDevice);\n",
        "\n",
        "  dim3 dimGrid(WIDTH/TILE_WIDTH,WIDTH/TILE_WIDTH);\n",
        "  dim3 dimBlock(TILE_WIDTH,TILE_WIDTH);\n",
        "\n",
        "  perform2DMatrixMult<<<dimGrid,dimBlock>>>(d_A,d_B,d_C);\n",
        "\n",
        "  cudaMemcpy(C,d_C,sizeof(int)*WIDTH*WIDTH,cudaMemcpyDeviceToHost);\n",
        "\n",
        "  printf(\"This is the resultant matrix: \\n\");\n",
        "  for(int i =0;i<WIDTH;i++){\n",
        "    for(int j = 0;j<WIDTH;j++){\n",
        "      printf(\"%d\\t\",C[i*WIDTH + j]);\n",
        "    }\n",
        "    printf(\"\\n\");\n",
        "  }\n",
        "  return 0;\n",
        "}"
      ],
      "metadata": {
        "id": "fpkJHyo67VlN",
        "colab": {
          "base_uri": "https://localhost:8080/"
        },
        "outputId": "701531a7-3fcb-4288-a7a5-0ca4903b35ed"
      },
      "execution_count": 8,
      "outputs": [
        {
          "output_type": "stream",
          "name": "stdout",
          "text": [
            "Writing practice1.cu\n"
          ]
        }
      ]
    },
    {
      "cell_type": "code",
      "source": [
        "!nvcc practice1.cu -o practice1\n"
      ],
      "metadata": {
        "id": "q6-tZdmLLZRA"
      },
      "execution_count": null,
      "outputs": []
    },
    {
      "cell_type": "code",
      "source": [
        "!./practice1"
      ],
      "metadata": {
        "colab": {
          "base_uri": "https://localhost:8080/"
        },
        "id": "OpcadD-RO5A4",
        "outputId": "344a6be6-00ea-4467-d9be-9c941f8aba24"
      },
      "execution_count": null,
      "outputs": [
        {
          "output_type": "stream",
          "name": "stdout",
          "text": [
            "Enter 4x4 matrix A: \n",
            "1 2 3 4 \n",
            "1 2 3 4 \n",
            "1 2 3 4 \n",
            "1 2 3 4 \n",
            "Enter 4x4 matrix B: \n",
            "1 2 3 4 \n",
            "1 2 3 4 \n",
            "1 2 3 4\n",
            "1 2 3 4 \n",
            "This is the resultant matrix: \n",
            "10\t20\t30\t40\t\n",
            "10\t20\t30\t40\t\n",
            "10\t20\t30\t40\t\n",
            "10\t20\t30\t40\t\n"
          ]
        }
      ]
    },
    {
      "cell_type": "code",
      "source": [
        "%%writefile practice2.cu\n",
        "\n",
        "// MERGE SORT\n",
        "\n",
        "#include<stdio.h>\n",
        "#include<cuda_runtime.h>\n",
        "\n",
        "// CUDA Kernel for merging two halves of an array\n",
        "__global__ void mergeKernel(int *deviceArray, int *tempArray, int size, int width) {\n",
        "    int idx = blockIdx.x * blockDim.x + threadIdx.x;\n",
        "    int start = width * idx;\n",
        "    int mid = min(start + width / 2, size);\n",
        "    int end = min(start + width, size);\n",
        "\n",
        "    int a = start, b = mid, i = start;\n",
        "\n",
        "    while (a < mid && b < end) {\n",
        "        tempArray[i++] = (deviceArray[a] < deviceArray[b]) ? deviceArray[a++] : deviceArray[b++];\n",
        "    }\n",
        "    while (a < mid) {\n",
        "        tempArray[i++] = deviceArray[a++];\n",
        "    }\n",
        "    while (b < end) {\n",
        "        tempArray[i++] = deviceArray[b++];\n",
        "    }\n",
        "}\n",
        "\n",
        "// Host function to call the merge sort kernel\n",
        "void mergeSort(int *array, int size) {\n",
        "    int *deviceArray, *tempArray;\n",
        "\n",
        "    // Allocate memory on the GPU\n",
        "    cudaMalloc(&deviceArray, size * sizeof(int));\n",
        "    cudaMalloc(&tempArray, size * sizeof(int));\n",
        "\n",
        "    // Copy array from host to device\n",
        "    cudaMemcpy(deviceArray, array, size * sizeof(int), cudaMemcpyHostToDevice);\n",
        "\n",
        "    dim3 threadsPerBlock(1024);\n",
        "    dim3 blocksPerGrid((size + threadsPerBlock.x - 1) / threadsPerBlock.x);\n",
        "    int width;\n",
        "\n",
        "    // Perform the merge sort\n",
        "    for (width = 2; width <= size; width *= 2) {\n",
        "        mergeKernel<<<blocksPerGrid, threadsPerBlock>>>(deviceArray, tempArray, size, width);\n",
        "        cudaMemcpy(deviceArray, tempArray, size * sizeof(int), cudaMemcpyDeviceToDevice);\n",
        "    }\n",
        "\n",
        "    // Copy sorted array back to host\n",
        "    cudaMemcpy(array, deviceArray, size * sizeof(int), cudaMemcpyDeviceToHost);\n",
        "\n",
        "    // Free device memory\n",
        "    cudaFree(deviceArray);\n",
        "    cudaFree(tempArray);\n",
        "}\n",
        "\n",
        "int main() {\n",
        "    int *array;\n",
        "    int size;\n",
        "\n",
        "    printf(\"Enter the number of elements: \");\n",
        "    scanf(\"%d\", &size);\n",
        "\n",
        "    array = (int*)malloc(size * sizeof(int));\n",
        "\n",
        "    printf(\"Enter the elements of the array:\\n\");\n",
        "    for (int i = 0; i < size; i++) {\n",
        "        scanf(\"%d\", &array[i]);\n",
        "    }\n",
        "\n",
        "    mergeSort(array, size);\n",
        "\n",
        "    // Print the sorted array\n",
        "    printf(\"Sorted array:\\n\");\n",
        "    for (int i = 0; i < size; i++) {\n",
        "        printf(\"%d \", array[i]);\n",
        "    }\n",
        "    printf(\"\\n\");\n",
        "\n",
        "    free(array);\n",
        "\n",
        "    return 0;\n",
        "}\n"
      ],
      "metadata": {
        "id": "EPu3g9QBPbmy",
        "colab": {
          "base_uri": "https://localhost:8080/"
        },
        "outputId": "dd40e306-4415-4ad5-9745-9c8006188554"
      },
      "execution_count": null,
      "outputs": [
        {
          "output_type": "stream",
          "name": "stdout",
          "text": [
            "Overwriting practice2.cu\n"
          ]
        }
      ]
    },
    {
      "cell_type": "code",
      "source": [
        "!nvcc practice2.cu -o practice2"
      ],
      "metadata": {
        "id": "nDxpWzq2jeCy"
      },
      "execution_count": null,
      "outputs": []
    },
    {
      "cell_type": "code",
      "source": [
        "!./practice2"
      ],
      "metadata": {
        "colab": {
          "base_uri": "https://localhost:8080/"
        },
        "id": "8N3mB0-kjlWD",
        "outputId": "5c5de951-7fe6-41d0-e40e-eb96f3799dd4"
      },
      "execution_count": null,
      "outputs": [
        {
          "output_type": "stream",
          "name": "stdout",
          "text": [
            "Enter the number of elements: 10\n",
            "Enter the elements of the array:\n",
            "1 4 2 3 7 6 9 4 18 12\n",
            "Sorted array:\n",
            "1 2 3 4 4 6 7 9 12 18 \n"
          ]
        }
      ]
    },
    {
      "cell_type": "code",
      "source": [],
      "metadata": {
        "id": "kM1KXo5LjnoS"
      },
      "execution_count": null,
      "outputs": []
    }
  ]
}